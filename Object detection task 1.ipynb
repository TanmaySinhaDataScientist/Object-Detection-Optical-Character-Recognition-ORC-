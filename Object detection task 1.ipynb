{
 "cells": [
  {
   "cell_type": "markdown",
   "id": "34ccb76c",
   "metadata": {},
   "source": [
    "#   <span style='background :yellow' > ***Author: TANMAY SINHA*** </span>\n",
    "\n",
    "\n",
    "\n",
    "# The Sparks Foundation\n",
    "\n",
    "\n",
    "\n",
    "\n",
    "## TASK 1 :- Object Detection / Optical Character Recognition (ORC)\n",
    "\n",
    "● Implement an object detector which identifies the classes of the objects in\n",
    "an image or video. OR\n",
    "\n",
    "\n",
    "● Character detector which extracts printed or handwritten text from an\n",
    "image or video.\n",
    "\n",
    "\n",
    "\n",
    "● Below resources are just for references you can use any library/approach\n",
    "to achieve the goal."
   ]
  },
  {
   "cell_type": "code",
   "execution_count": 2,
   "id": "2327a3ff",
   "metadata": {},
   "outputs": [
    {
     "name": "stdout",
     "output_type": "stream",
     "text": [
      "Collecting opencv-python\n",
      "  Downloading opencv_python-4.5.3.56-cp38-cp38-win_amd64.whl (34.9 MB)\n",
      "Requirement already satisfied: numpy>=1.17.3 in d:\\anaconda\\lib\\site-packages (from opencv-python) (1.20.1)\n",
      "Installing collected packages: opencv-python\n",
      "Successfully installed opencv-python-4.5.3.56\n"
     ]
    }
   ],
   "source": [
    "!pip install opencv-python"
   ]
  },
  {
   "cell_type": "code",
   "execution_count": 3,
   "id": "b58c88af",
   "metadata": {},
   "outputs": [],
   "source": [
    "import cv2 \n",
    "\n",
    "# OpenCV-Python is a library of Python bindings designed to solve computer vision problems. "
   ]
  },
  {
   "cell_type": "code",
   "execution_count": 4,
   "id": "b69735b4",
   "metadata": {},
   "outputs": [],
   "source": [
    "configFile = 'ssd_mobilenet_v3_large_coco_2020_01_14.pbtxt.txt'\n",
    "frozenModel = 'frozen_inference_graph.pb'\n",
    "model = cv2.dnn_DetectionModel(frozenModel,configFile)"
   ]
  },
  {
   "cell_type": "code",
   "execution_count": 6,
   "id": "e157b59a",
   "metadata": {},
   "outputs": [],
   "source": [
    "classFile = 'coco.names.txt'\n",
    "classNames = []\n",
    "with open(classFile, 'rt') as f:\n",
    "    classNames = f.read().rstrip('\\n').split('\\n')"
   ]
  },
  {
   "cell_type": "code",
   "execution_count": 7,
   "id": "3135256f",
   "metadata": {},
   "outputs": [
    {
     "data": {
      "text/plain": [
       "<dnn_Model 00000186E2157EB0>"
      ]
     },
     "execution_count": 7,
     "metadata": {},
     "output_type": "execute_result"
    }
   ],
   "source": [
    "model.setInputSize(320,320)\n",
    "model.setInputScale(1.0/127.5)\n",
    "model.setInputMean((127.5,127.5,127.5))\n",
    "model.setInputSwapRB(True)"
   ]
  },
  {
   "cell_type": "markdown",
   "id": "84b6b525",
   "metadata": {},
   "source": [
    "### Create a VideoCapture object and read from input file.If the input is taken from the camera, pass 0 instead of the video file name.\n",
    "\n",
    "\n",
    "### cap = cv2.VideoCapture('new.mp4')\n",
    "\n",
    "\n",
    "\n",
    "\n",
    " \n"
   ]
  },
  {
   "cell_type": "code",
   "execution_count": null,
   "id": "8857c2c0",
   "metadata": {},
   "outputs": [],
   "source": [
    "cap = cv2.VideoCapture('new.mp4')\n",
    "while True:\n",
    "    ret,frame = cap.read()\n",
    "    ClassIndex, confidence, bbox = model.detect(frame,confThreshold=0.62)\n",
    "    if len(ClassIndex)!= 0:\n",
    "        for ClassInd,conf,boxes in zip(ClassIndex.flatten(),confidence.flatten(),bbox):\n",
    "            if ClassInd <= 80:\n",
    "                cv2.rectangle(frame,boxes,(255,255,255),2)\n",
    "                cv2.putText(frame,classNames[ClassInd-1],(boxes[0]+10,boxes[1]+40),cv2.FONT_HERSHEY_COMPLEX, fontScale=1.1, color = (150,255,0),thickness = 2)\n",
    "    cv2.imshow(\"output\",frame)\n",
    "    if cv2.waitKey(2) & 0xFF == ord('q'):\n",
    "        break  \n",
    "cap.release()\n",
    "cv2.destroyAllWindows()"
   ]
  },
  {
   "cell_type": "code",
   "execution_count": null,
   "id": "c809d604",
   "metadata": {},
   "outputs": [],
   "source": []
  }
 ],
 "metadata": {
  "kernelspec": {
   "display_name": "Python 3",
   "language": "python",
   "name": "python3"
  },
  "language_info": {
   "codemirror_mode": {
    "name": "ipython",
    "version": 3
   },
   "file_extension": ".py",
   "mimetype": "text/x-python",
   "name": "python",
   "nbconvert_exporter": "python",
   "pygments_lexer": "ipython3",
   "version": "3.8.8"
  }
 },
 "nbformat": 4,
 "nbformat_minor": 5
}
